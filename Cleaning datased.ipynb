{
 "cells": [
  {
   "metadata": {},
   "cell_type": "markdown",
   "source": "**Dataset utilizado - https://archive.ics.uci.edu/dataset/10/automobile**",
   "id": "82b7faf216d72c8c"
  },
  {
   "metadata": {
    "ExecuteTime": {
     "end_time": "2024-06-01T22:51:58.192982Z",
     "start_time": "2024-06-01T22:51:55.895621Z"
    }
   },
   "cell_type": "code",
   "source": [
    "from ucimlrepo import fetch_ucirepo \n",
    "import numpy as np\n",
    "import pandas as pd\n",
    "import matplotlib.pyplot as plt\n",
    "import seaborn as sns\n",
    "from sklearn.preprocessing import LabelEncoder\n",
    "\n",
    "automobile = fetch_ucirepo(id=10) \n",
    "  \n",
    "# data (as pandas dataframes) \n",
    "X = automobile.data.features \n",
    "y = automobile.data.targets \n",
    "  \n",
    "# variable information \n",
    "automobile.variables\n"
   ],
   "id": "41f2d9a87461a93e",
   "outputs": [
    {
     "data": {
      "text/plain": [
       "                 name     role         type demographic  \\\n",
       "0               price  Feature   Continuous        None   \n",
       "1         highway-mpg  Feature   Continuous        None   \n",
       "2            city-mpg  Feature   Continuous        None   \n",
       "3            peak-rpm  Feature   Continuous        None   \n",
       "4          horsepower  Feature   Continuous        None   \n",
       "5   compression-ratio  Feature   Continuous        None   \n",
       "6              stroke  Feature   Continuous        None   \n",
       "7                bore  Feature   Continuous        None   \n",
       "8         fuel-system  Feature  Categorical        None   \n",
       "9         engine-size  Feature   Continuous        None   \n",
       "10   num-of-cylinders  Feature      Integer        None   \n",
       "11        engine-type  Feature  Categorical        None   \n",
       "12        curb-weight  Feature   Continuous        None   \n",
       "13             height  Feature   Continuous        None   \n",
       "14              width  Feature   Continuous        None   \n",
       "15             length  Feature   Continuous        None   \n",
       "16         wheel-base  Feature   Continuous        None   \n",
       "17    engine-location  Feature       Binary        None   \n",
       "18       drive-wheels  Feature  Categorical        None   \n",
       "19         body-style  Feature  Categorical        None   \n",
       "20       num-of-doors  Feature      Integer        None   \n",
       "21         aspiration  Feature       Binary        None   \n",
       "22          fuel-type  Feature       Binary        None   \n",
       "23               make  Feature  Categorical        None   \n",
       "24  normalized-losses  Feature   Continuous        None   \n",
       "25          symboling   Target      Integer        None   \n",
       "\n",
       "                                          description units missing_values  \n",
       "0                       continuous from 5118 to 45400  None            yes  \n",
       "1                            continuous from 16 to 54  None             no  \n",
       "2                            continuous from 13 to 49  None             no  \n",
       "3                        continuous from 4150 to 6600  None            yes  \n",
       "4                           continuous from 48 to 288  None            yes  \n",
       "5                             continuous from 7 to 23  None             no  \n",
       "6                        continuous from 2.07 to 4.17  None            yes  \n",
       "7                        continuous from 2.54 to 3.94  None            yes  \n",
       "8        1bbl, 2bbl, 4bbl, idi, mfi, mpfi, spdi, spfi  None             no  \n",
       "9                           continuous from 61 to 326  None             no  \n",
       "10         eight, five, four, six, three, twelve, two  None             no  \n",
       "11             dohc, dohcv, l, ohc, ohcf, ohcv, rotor  None             no  \n",
       "12                       continuous from 1488 to 4066  None             no  \n",
       "13                       continuous from 47.8 to 59.8  None             no  \n",
       "14                       continuous from 60.3 to 72.3  None             no  \n",
       "15                     continuous from 141.1 to 208.1  None             no  \n",
       "16                         continuous from 86.6 120.9  None             no  \n",
       "17                                        front, rear  None             no  \n",
       "18                                      4wd, fwd, rwd  None             no  \n",
       "19      hardtop, wagon, sedan, hatchback, convertible  None             no  \n",
       "20                                          four, two  None            yes  \n",
       "21                                         std, turbo  None             no  \n",
       "22                                        diesel, gas  None             no  \n",
       "23  alfa-romero, audi, bmw, chevrolet, dodge, hond...  None             no  \n",
       "24                          continuous from 65 to 256  None            yes  \n",
       "25                             -3, -2, -1, 0, 1, 2, 3  None             no  "
      ],
      "text/html": [
       "<div>\n",
       "<style scoped>\n",
       "    .dataframe tbody tr th:only-of-type {\n",
       "        vertical-align: middle;\n",
       "    }\n",
       "\n",
       "    .dataframe tbody tr th {\n",
       "        vertical-align: top;\n",
       "    }\n",
       "\n",
       "    .dataframe thead th {\n",
       "        text-align: right;\n",
       "    }\n",
       "</style>\n",
       "<table border=\"1\" class=\"dataframe\">\n",
       "  <thead>\n",
       "    <tr style=\"text-align: right;\">\n",
       "      <th></th>\n",
       "      <th>name</th>\n",
       "      <th>role</th>\n",
       "      <th>type</th>\n",
       "      <th>demographic</th>\n",
       "      <th>description</th>\n",
       "      <th>units</th>\n",
       "      <th>missing_values</th>\n",
       "    </tr>\n",
       "  </thead>\n",
       "  <tbody>\n",
       "    <tr>\n",
       "      <th>0</th>\n",
       "      <td>price</td>\n",
       "      <td>Feature</td>\n",
       "      <td>Continuous</td>\n",
       "      <td>None</td>\n",
       "      <td>continuous from 5118 to 45400</td>\n",
       "      <td>None</td>\n",
       "      <td>yes</td>\n",
       "    </tr>\n",
       "    <tr>\n",
       "      <th>1</th>\n",
       "      <td>highway-mpg</td>\n",
       "      <td>Feature</td>\n",
       "      <td>Continuous</td>\n",
       "      <td>None</td>\n",
       "      <td>continuous from 16 to 54</td>\n",
       "      <td>None</td>\n",
       "      <td>no</td>\n",
       "    </tr>\n",
       "    <tr>\n",
       "      <th>2</th>\n",
       "      <td>city-mpg</td>\n",
       "      <td>Feature</td>\n",
       "      <td>Continuous</td>\n",
       "      <td>None</td>\n",
       "      <td>continuous from 13 to 49</td>\n",
       "      <td>None</td>\n",
       "      <td>no</td>\n",
       "    </tr>\n",
       "    <tr>\n",
       "      <th>3</th>\n",
       "      <td>peak-rpm</td>\n",
       "      <td>Feature</td>\n",
       "      <td>Continuous</td>\n",
       "      <td>None</td>\n",
       "      <td>continuous from 4150 to 6600</td>\n",
       "      <td>None</td>\n",
       "      <td>yes</td>\n",
       "    </tr>\n",
       "    <tr>\n",
       "      <th>4</th>\n",
       "      <td>horsepower</td>\n",
       "      <td>Feature</td>\n",
       "      <td>Continuous</td>\n",
       "      <td>None</td>\n",
       "      <td>continuous from 48 to 288</td>\n",
       "      <td>None</td>\n",
       "      <td>yes</td>\n",
       "    </tr>\n",
       "    <tr>\n",
       "      <th>5</th>\n",
       "      <td>compression-ratio</td>\n",
       "      <td>Feature</td>\n",
       "      <td>Continuous</td>\n",
       "      <td>None</td>\n",
       "      <td>continuous from 7 to 23</td>\n",
       "      <td>None</td>\n",
       "      <td>no</td>\n",
       "    </tr>\n",
       "    <tr>\n",
       "      <th>6</th>\n",
       "      <td>stroke</td>\n",
       "      <td>Feature</td>\n",
       "      <td>Continuous</td>\n",
       "      <td>None</td>\n",
       "      <td>continuous from 2.07 to 4.17</td>\n",
       "      <td>None</td>\n",
       "      <td>yes</td>\n",
       "    </tr>\n",
       "    <tr>\n",
       "      <th>7</th>\n",
       "      <td>bore</td>\n",
       "      <td>Feature</td>\n",
       "      <td>Continuous</td>\n",
       "      <td>None</td>\n",
       "      <td>continuous from 2.54 to 3.94</td>\n",
       "      <td>None</td>\n",
       "      <td>yes</td>\n",
       "    </tr>\n",
       "    <tr>\n",
       "      <th>8</th>\n",
       "      <td>fuel-system</td>\n",
       "      <td>Feature</td>\n",
       "      <td>Categorical</td>\n",
       "      <td>None</td>\n",
       "      <td>1bbl, 2bbl, 4bbl, idi, mfi, mpfi, spdi, spfi</td>\n",
       "      <td>None</td>\n",
       "      <td>no</td>\n",
       "    </tr>\n",
       "    <tr>\n",
       "      <th>9</th>\n",
       "      <td>engine-size</td>\n",
       "      <td>Feature</td>\n",
       "      <td>Continuous</td>\n",
       "      <td>None</td>\n",
       "      <td>continuous from 61 to 326</td>\n",
       "      <td>None</td>\n",
       "      <td>no</td>\n",
       "    </tr>\n",
       "    <tr>\n",
       "      <th>10</th>\n",
       "      <td>num-of-cylinders</td>\n",
       "      <td>Feature</td>\n",
       "      <td>Integer</td>\n",
       "      <td>None</td>\n",
       "      <td>eight, five, four, six, three, twelve, two</td>\n",
       "      <td>None</td>\n",
       "      <td>no</td>\n",
       "    </tr>\n",
       "    <tr>\n",
       "      <th>11</th>\n",
       "      <td>engine-type</td>\n",
       "      <td>Feature</td>\n",
       "      <td>Categorical</td>\n",
       "      <td>None</td>\n",
       "      <td>dohc, dohcv, l, ohc, ohcf, ohcv, rotor</td>\n",
       "      <td>None</td>\n",
       "      <td>no</td>\n",
       "    </tr>\n",
       "    <tr>\n",
       "      <th>12</th>\n",
       "      <td>curb-weight</td>\n",
       "      <td>Feature</td>\n",
       "      <td>Continuous</td>\n",
       "      <td>None</td>\n",
       "      <td>continuous from 1488 to 4066</td>\n",
       "      <td>None</td>\n",
       "      <td>no</td>\n",
       "    </tr>\n",
       "    <tr>\n",
       "      <th>13</th>\n",
       "      <td>height</td>\n",
       "      <td>Feature</td>\n",
       "      <td>Continuous</td>\n",
       "      <td>None</td>\n",
       "      <td>continuous from 47.8 to 59.8</td>\n",
       "      <td>None</td>\n",
       "      <td>no</td>\n",
       "    </tr>\n",
       "    <tr>\n",
       "      <th>14</th>\n",
       "      <td>width</td>\n",
       "      <td>Feature</td>\n",
       "      <td>Continuous</td>\n",
       "      <td>None</td>\n",
       "      <td>continuous from 60.3 to 72.3</td>\n",
       "      <td>None</td>\n",
       "      <td>no</td>\n",
       "    </tr>\n",
       "    <tr>\n",
       "      <th>15</th>\n",
       "      <td>length</td>\n",
       "      <td>Feature</td>\n",
       "      <td>Continuous</td>\n",
       "      <td>None</td>\n",
       "      <td>continuous from 141.1 to 208.1</td>\n",
       "      <td>None</td>\n",
       "      <td>no</td>\n",
       "    </tr>\n",
       "    <tr>\n",
       "      <th>16</th>\n",
       "      <td>wheel-base</td>\n",
       "      <td>Feature</td>\n",
       "      <td>Continuous</td>\n",
       "      <td>None</td>\n",
       "      <td>continuous from 86.6 120.9</td>\n",
       "      <td>None</td>\n",
       "      <td>no</td>\n",
       "    </tr>\n",
       "    <tr>\n",
       "      <th>17</th>\n",
       "      <td>engine-location</td>\n",
       "      <td>Feature</td>\n",
       "      <td>Binary</td>\n",
       "      <td>None</td>\n",
       "      <td>front, rear</td>\n",
       "      <td>None</td>\n",
       "      <td>no</td>\n",
       "    </tr>\n",
       "    <tr>\n",
       "      <th>18</th>\n",
       "      <td>drive-wheels</td>\n",
       "      <td>Feature</td>\n",
       "      <td>Categorical</td>\n",
       "      <td>None</td>\n",
       "      <td>4wd, fwd, rwd</td>\n",
       "      <td>None</td>\n",
       "      <td>no</td>\n",
       "    </tr>\n",
       "    <tr>\n",
       "      <th>19</th>\n",
       "      <td>body-style</td>\n",
       "      <td>Feature</td>\n",
       "      <td>Categorical</td>\n",
       "      <td>None</td>\n",
       "      <td>hardtop, wagon, sedan, hatchback, convertible</td>\n",
       "      <td>None</td>\n",
       "      <td>no</td>\n",
       "    </tr>\n",
       "    <tr>\n",
       "      <th>20</th>\n",
       "      <td>num-of-doors</td>\n",
       "      <td>Feature</td>\n",
       "      <td>Integer</td>\n",
       "      <td>None</td>\n",
       "      <td>four, two</td>\n",
       "      <td>None</td>\n",
       "      <td>yes</td>\n",
       "    </tr>\n",
       "    <tr>\n",
       "      <th>21</th>\n",
       "      <td>aspiration</td>\n",
       "      <td>Feature</td>\n",
       "      <td>Binary</td>\n",
       "      <td>None</td>\n",
       "      <td>std, turbo</td>\n",
       "      <td>None</td>\n",
       "      <td>no</td>\n",
       "    </tr>\n",
       "    <tr>\n",
       "      <th>22</th>\n",
       "      <td>fuel-type</td>\n",
       "      <td>Feature</td>\n",
       "      <td>Binary</td>\n",
       "      <td>None</td>\n",
       "      <td>diesel, gas</td>\n",
       "      <td>None</td>\n",
       "      <td>no</td>\n",
       "    </tr>\n",
       "    <tr>\n",
       "      <th>23</th>\n",
       "      <td>make</td>\n",
       "      <td>Feature</td>\n",
       "      <td>Categorical</td>\n",
       "      <td>None</td>\n",
       "      <td>alfa-romero, audi, bmw, chevrolet, dodge, hond...</td>\n",
       "      <td>None</td>\n",
       "      <td>no</td>\n",
       "    </tr>\n",
       "    <tr>\n",
       "      <th>24</th>\n",
       "      <td>normalized-losses</td>\n",
       "      <td>Feature</td>\n",
       "      <td>Continuous</td>\n",
       "      <td>None</td>\n",
       "      <td>continuous from 65 to 256</td>\n",
       "      <td>None</td>\n",
       "      <td>yes</td>\n",
       "    </tr>\n",
       "    <tr>\n",
       "      <th>25</th>\n",
       "      <td>symboling</td>\n",
       "      <td>Target</td>\n",
       "      <td>Integer</td>\n",
       "      <td>None</td>\n",
       "      <td>-3, -2, -1, 0, 1, 2, 3</td>\n",
       "      <td>None</td>\n",
       "      <td>no</td>\n",
       "    </tr>\n",
       "  </tbody>\n",
       "</table>\n",
       "</div>"
      ]
     },
     "execution_count": 2,
     "metadata": {},
     "output_type": "execute_result"
    }
   ],
   "execution_count": 2
  },
  {
   "metadata": {
    "ExecuteTime": {
     "end_time": "2024-06-01T22:51:58.197516Z",
     "start_time": "2024-06-01T22:51:58.193989Z"
    }
   },
   "cell_type": "code",
   "source": "X.loc[:, 'price'] = X['price'].fillna(X['price'].mean())\n",
   "id": "f115fdba2e0a0e90",
   "outputs": [],
   "execution_count": 3
  },
  {
   "metadata": {
    "ExecuteTime": {
     "end_time": "2024-06-01T22:51:58.210544Z",
     "start_time": "2024-06-01T22:51:58.197516Z"
    }
   },
   "cell_type": "code",
   "source": "X.isna().sum()",
   "id": "c4227e1b294ee5a9",
   "outputs": [
    {
     "data": {
      "text/plain": [
       "price                 0\n",
       "highway-mpg           0\n",
       "city-mpg              0\n",
       "peak-rpm              2\n",
       "horsepower            2\n",
       "compression-ratio     0\n",
       "stroke                4\n",
       "bore                  4\n",
       "fuel-system           0\n",
       "engine-size           0\n",
       "num-of-cylinders      0\n",
       "engine-type           0\n",
       "curb-weight           0\n",
       "height                0\n",
       "width                 0\n",
       "length                0\n",
       "wheel-base            0\n",
       "engine-location       0\n",
       "drive-wheels          0\n",
       "body-style            0\n",
       "num-of-doors          2\n",
       "aspiration            0\n",
       "fuel-type             0\n",
       "make                  0\n",
       "normalized-losses    41\n",
       "dtype: int64"
      ]
     },
     "execution_count": 4,
     "metadata": {},
     "output_type": "execute_result"
    }
   ],
   "execution_count": 4
  },
  {
   "metadata": {
    "ExecuteTime": {
     "end_time": "2024-06-01T22:51:58.214962Z",
     "start_time": "2024-06-01T22:51:58.211552Z"
    }
   },
   "cell_type": "code",
   "source": "X.loc[:, 'peak-rpm'] = X['peak-rpm'].fillna(X['peak-rpm'].mean())",
   "id": "ad671fb959a1598",
   "outputs": [],
   "execution_count": 5
  },
  {
   "metadata": {
    "ExecuteTime": {
     "end_time": "2024-06-01T22:51:58.220474Z",
     "start_time": "2024-06-01T22:51:58.214962Z"
    }
   },
   "cell_type": "code",
   "source": "X.isna().sum()",
   "id": "3fa793c637075854",
   "outputs": [
    {
     "data": {
      "text/plain": [
       "price                 0\n",
       "highway-mpg           0\n",
       "city-mpg              0\n",
       "peak-rpm              0\n",
       "horsepower            2\n",
       "compression-ratio     0\n",
       "stroke                4\n",
       "bore                  4\n",
       "fuel-system           0\n",
       "engine-size           0\n",
       "num-of-cylinders      0\n",
       "engine-type           0\n",
       "curb-weight           0\n",
       "height                0\n",
       "width                 0\n",
       "length                0\n",
       "wheel-base            0\n",
       "engine-location       0\n",
       "drive-wheels          0\n",
       "body-style            0\n",
       "num-of-doors          2\n",
       "aspiration            0\n",
       "fuel-type             0\n",
       "make                  0\n",
       "normalized-losses    41\n",
       "dtype: int64"
      ]
     },
     "execution_count": 6,
     "metadata": {},
     "output_type": "execute_result"
    }
   ],
   "execution_count": 6
  },
  {
   "metadata": {
    "ExecuteTime": {
     "end_time": "2024-06-01T22:51:58.224144Z",
     "start_time": "2024-06-01T22:51:58.220474Z"
    }
   },
   "cell_type": "code",
   "source": "X.loc[:, 'horsepower'] = X['horsepower'].fillna(X['horsepower'].mean())",
   "id": "ae98b45922066f37",
   "outputs": [],
   "execution_count": 7
  },
  {
   "metadata": {
    "ExecuteTime": {
     "end_time": "2024-06-01T22:51:58.230152Z",
     "start_time": "2024-06-01T22:51:58.224144Z"
    }
   },
   "cell_type": "code",
   "source": "X.isna().sum()",
   "id": "4caf1082f601457b",
   "outputs": [
    {
     "data": {
      "text/plain": [
       "price                 0\n",
       "highway-mpg           0\n",
       "city-mpg              0\n",
       "peak-rpm              0\n",
       "horsepower            0\n",
       "compression-ratio     0\n",
       "stroke                4\n",
       "bore                  4\n",
       "fuel-system           0\n",
       "engine-size           0\n",
       "num-of-cylinders      0\n",
       "engine-type           0\n",
       "curb-weight           0\n",
       "height                0\n",
       "width                 0\n",
       "length                0\n",
       "wheel-base            0\n",
       "engine-location       0\n",
       "drive-wheels          0\n",
       "body-style            0\n",
       "num-of-doors          2\n",
       "aspiration            0\n",
       "fuel-type             0\n",
       "make                  0\n",
       "normalized-losses    41\n",
       "dtype: int64"
      ]
     },
     "execution_count": 8,
     "metadata": {},
     "output_type": "execute_result"
    }
   ],
   "execution_count": 8
  },
  {
   "metadata": {
    "ExecuteTime": {
     "end_time": "2024-06-01T22:51:58.234645Z",
     "start_time": "2024-06-01T22:51:58.230152Z"
    }
   },
   "cell_type": "code",
   "source": "X.loc[:, 'stroke'] = X['stroke'].fillna(X['stroke'].mean())",
   "id": "a98d9febcbdbf268",
   "outputs": [],
   "execution_count": 9
  },
  {
   "metadata": {
    "ExecuteTime": {
     "end_time": "2024-06-01T22:51:58.240773Z",
     "start_time": "2024-06-01T22:51:58.235654Z"
    }
   },
   "cell_type": "code",
   "source": "X.isna().sum()",
   "id": "a1a20a39ce65a8ef",
   "outputs": [
    {
     "data": {
      "text/plain": [
       "price                 0\n",
       "highway-mpg           0\n",
       "city-mpg              0\n",
       "peak-rpm              0\n",
       "horsepower            0\n",
       "compression-ratio     0\n",
       "stroke                0\n",
       "bore                  4\n",
       "fuel-system           0\n",
       "engine-size           0\n",
       "num-of-cylinders      0\n",
       "engine-type           0\n",
       "curb-weight           0\n",
       "height                0\n",
       "width                 0\n",
       "length                0\n",
       "wheel-base            0\n",
       "engine-location       0\n",
       "drive-wheels          0\n",
       "body-style            0\n",
       "num-of-doors          2\n",
       "aspiration            0\n",
       "fuel-type             0\n",
       "make                  0\n",
       "normalized-losses    41\n",
       "dtype: int64"
      ]
     },
     "execution_count": 10,
     "metadata": {},
     "output_type": "execute_result"
    }
   ],
   "execution_count": 10
  },
  {
   "metadata": {
    "ExecuteTime": {
     "end_time": "2024-06-01T22:51:58.245785Z",
     "start_time": "2024-06-01T22:51:58.241782Z"
    }
   },
   "cell_type": "code",
   "source": "X.loc[:, 'bore'] = X['bore'].fillna(X['bore'].mean())",
   "id": "da3b6ffcd296d0fb",
   "outputs": [],
   "execution_count": 11
  },
  {
   "metadata": {
    "ExecuteTime": {
     "end_time": "2024-06-01T22:51:58.250296Z",
     "start_time": "2024-06-01T22:51:58.245785Z"
    }
   },
   "cell_type": "code",
   "source": "X.loc[:, 'num-of-doors'] = X['num-of-doors'].fillna(X['num-of-doors'].median())",
   "id": "3b2d954f79767af9",
   "outputs": [],
   "execution_count": 12
  },
  {
   "metadata": {
    "ExecuteTime": {
     "end_time": "2024-06-01T22:51:58.255627Z",
     "start_time": "2024-06-01T22:51:58.250296Z"
    }
   },
   "cell_type": "code",
   "source": "X['normalized-losses']",
   "id": "5ca70399f114f42e",
   "outputs": [
    {
     "data": {
      "text/plain": [
       "0        NaN\n",
       "1        NaN\n",
       "2        NaN\n",
       "3      164.0\n",
       "4      164.0\n",
       "       ...  \n",
       "200     95.0\n",
       "201     95.0\n",
       "202     95.0\n",
       "203     95.0\n",
       "204     95.0\n",
       "Name: normalized-losses, Length: 205, dtype: float64"
      ]
     },
     "execution_count": 13,
     "metadata": {},
     "output_type": "execute_result"
    }
   ],
   "execution_count": 13
  },
  {
   "metadata": {
    "ExecuteTime": {
     "end_time": "2024-06-01T22:51:58.455471Z",
     "start_time": "2024-06-01T22:51:58.255627Z"
    }
   },
   "cell_type": "code",
   "source": [
    "sns.kdeplot(X['normalized-losses'])\n",
    "plt.show()"
   ],
   "id": "c2b308c3e25dec2f",
   "outputs": [
    {
     "data": {
      "text/plain": [
       "<Figure size 640x480 with 1 Axes>"
      ],
      "image/png": "[encoded data removed]"
     },
     "metadata": {},
     "output_type": "display_data"
    }
   ],
   "execution_count": 14
  },
  {
   "metadata": {
    "ExecuteTime": {
     "end_time": "2024-06-01T22:51:58.460488Z",
     "start_time": "2024-06-01T22:51:58.456478Z"
    }
   },
   "cell_type": "code",
   "source": "X.loc[:, 'normalized-losses'] = X['normalized-losses'].fillna(X['normalized-losses'].median())",
   "id": "9b2079ffea9ea593",
   "outputs": [],
   "execution_count": 15
  },
  {
   "metadata": {
    "ExecuteTime": {
     "end_time": "2024-06-01T22:51:58.466984Z",
     "start_time": "2024-06-01T22:51:58.460488Z"
    }
   },
   "cell_type": "code",
   "source": "X['normalized-losses'].value_counts()",
   "id": "75a6f158eda9c5e2",
   "outputs": [
    {
     "data": {
      "text/plain": [
       "normalized-losses\n",
       "115.0    44\n",
       "161.0    11\n",
       "91.0      8\n",
       "150.0     7\n",
       "134.0     6\n",
       "128.0     6\n",
       "104.0     6\n",
       "85.0      5\n",
       "94.0      5\n",
       "65.0      5\n",
       "102.0     5\n",
       "74.0      5\n",
       "168.0     5\n",
       "103.0     5\n",
       "95.0      5\n",
       "106.0     4\n",
       "93.0      4\n",
       "118.0     4\n",
       "148.0     4\n",
       "122.0     4\n",
       "83.0      3\n",
       "125.0     3\n",
       "154.0     3\n",
       "137.0     3\n",
       "101.0     3\n",
       "188.0     2\n",
       "119.0     2\n",
       "89.0      2\n",
       "192.0     2\n",
       "197.0     2\n",
       "158.0     2\n",
       "81.0      2\n",
       "87.0      2\n",
       "153.0     2\n",
       "129.0     2\n",
       "108.0     2\n",
       "110.0     2\n",
       "164.0     2\n",
       "145.0     2\n",
       "194.0     2\n",
       "113.0     2\n",
       "78.0      1\n",
       "256.0     1\n",
       "107.0     1\n",
       "90.0      1\n",
       "77.0      1\n",
       "142.0     1\n",
       "121.0     1\n",
       "98.0      1\n",
       "186.0     1\n",
       "231.0     1\n",
       "Name: count, dtype: int64"
      ]
     },
     "execution_count": 16,
     "metadata": {},
     "output_type": "execute_result"
    }
   ],
   "execution_count": 16
  },
  {
   "metadata": {
    "ExecuteTime": {
     "end_time": "2024-06-01T22:52:00.207833Z",
     "start_time": "2024-06-01T22:51:58.467991Z"
    }
   },
   "cell_type": "code",
   "source": [
    "automobile_2 = fetch_ucirepo(id=10) \n",
    "X_2 = automobile_2.data.features "
   ],
   "id": "c45932701a08193b",
   "outputs": [],
   "execution_count": 17
  },
  {
   "metadata": {
    "ExecuteTime": {
     "end_time": "2024-06-01T22:52:00.213318Z",
     "start_time": "2024-06-01T22:52:00.208864Z"
    }
   },
   "cell_type": "code",
   "source": "X_2['normalized-losses']",
   "id": "7feea98183a7344d",
   "outputs": [
    {
     "data": {
      "text/plain": [
       "0        NaN\n",
       "1        NaN\n",
       "2        NaN\n",
       "3      164.0\n",
       "4      164.0\n",
       "       ...  \n",
       "200     95.0\n",
       "201     95.0\n",
       "202     95.0\n",
       "203     95.0\n",
       "204     95.0\n",
       "Name: normalized-losses, Length: 205, dtype: float64"
      ]
     },
     "execution_count": 18,
     "metadata": {},
     "output_type": "execute_result"
    }
   ],
   "execution_count": 18
  },
  {
   "metadata": {
    "ExecuteTime": {
     "end_time": "2024-06-01T22:52:00.216776Z",
     "start_time": "2024-06-01T22:52:00.213318Z"
    }
   },
   "cell_type": "code",
   "source": "X.loc[:, 'normalized-losses'] = X_2['normalized-losses']",
   "id": "618ac0de66701554",
   "outputs": [],
   "execution_count": 19
  },
  {
   "metadata": {
    "ExecuteTime": {
     "end_time": "2024-06-01T22:52:00.220798Z",
     "start_time": "2024-06-01T22:52:00.216776Z"
    }
   },
   "cell_type": "code",
   "source": [
    "media_nl = X['normalized-losses'].mean()\n",
    "print(media_nl)"
   ],
   "id": "6a01fc536622a02d",
   "outputs": [
    {
     "name": "stdout",
     "output_type": "stream",
     "text": [
      "122.0\n"
     ]
    }
   ],
   "execution_count": 20
  },
  {
   "metadata": {
    "ExecuteTime": {
     "end_time": "2024-06-01T22:52:00.225872Z",
     "start_time": "2024-06-01T22:52:00.220798Z"
    }
   },
   "cell_type": "code",
   "source": "X.loc[:, 'normalized-losses'] = X['normalized-losses'].fillna(media_nl)",
   "id": "3c3509fe82117ef6",
   "outputs": [],
   "execution_count": 21
  },
  {
   "metadata": {
    "ExecuteTime": {
     "end_time": "2024-06-01T22:52:00.229031Z",
     "start_time": "2024-06-01T22:52:00.225872Z"
    }
   },
   "cell_type": "code",
   "source": [
    "del X_2\n",
    "del automobile_2"
   ],
   "id": "267dd99a66957ed2",
   "outputs": [],
   "execution_count": 22
  },
  {
   "metadata": {
    "ExecuteTime": {
     "end_time": "2024-06-01T22:52:00.417906Z",
     "start_time": "2024-06-01T22:52:00.229031Z"
    }
   },
   "cell_type": "code",
   "source": "sns.regplot(x='normalized-losses', y='symboling', data=pd.concat([X, y], axis=1))\n",
   "id": "a8058dd8a80aa515",
   "outputs": [
    {
     "data": {
      "text/plain": [
       "<Axes: xlabel='normalized-losses', ylabel='symboling'>"
      ]
     },
     "execution_count": 23,
     "metadata": {},
     "output_type": "execute_result"
    },
    {
     "data": {
      "text/plain": [
       "<Figure size 640x480 with 1 Axes>"
      ],
      "image/png": "[encoded data removed]"
     },
     "metadata": {},
     "output_type": "display_data"
    }
   ],
   "execution_count": 23
  },
  {
   "metadata": {},
   "cell_type": "markdown",
   "source": "**Transformando STRINGS**\n",
   "id": "f2a242d307d226e4"
  },
  {
   "metadata": {
    "ExecuteTime": {
     "end_time": "2024-06-01T22:52:00.421767Z",
     "start_time": "2024-06-01T22:52:00.417906Z"
    }
   },
   "cell_type": "code",
   "source": "le = LabelEncoder()",
   "id": "31ffe544c8bea3d4",
   "outputs": [],
   "execution_count": 24
  },
  {
   "metadata": {
    "ExecuteTime": {
     "end_time": "2024-06-01T22:52:00.427118Z",
     "start_time": "2024-06-01T22:52:00.422774Z"
    }
   },
   "cell_type": "code",
   "source": [
    "X.loc[:, 'engine-location'] = le.fit_transform(X['engine-location'])\n",
    "X['engine-location'].unique()"
   ],
   "id": "53993886137cc893",
   "outputs": [
    {
     "data": {
      "text/plain": [
       "array([0, 1], dtype=object)"
      ]
     },
     "execution_count": 25,
     "metadata": {},
     "output_type": "execute_result"
    }
   ],
   "execution_count": 25
  },
  {
   "metadata": {
    "ExecuteTime": {
     "end_time": "2024-06-01T22:52:00.432453Z",
     "start_time": "2024-06-01T22:52:00.428125Z"
    }
   },
   "cell_type": "code",
   "source": [
    "X.loc[:, 'make'] = le.fit_transform(X['make'])\n",
    "X['make'].unique()"
   ],
   "id": "63ca7ab03563dd8f",
   "outputs": [
    {
     "data": {
      "text/plain": [
       "array([0, 1, 2, 3, 4, 5, 6, 7, 8, 9, 10, 11, 12, 13, 14, 15, 16, 17, 18,\n",
       "       19, 20, 21], dtype=object)"
      ]
     },
     "execution_count": 26,
     "metadata": {},
     "output_type": "execute_result"
    }
   ],
   "execution_count": 26
  },
  {
   "metadata": {
    "ExecuteTime": {
     "end_time": "2024-06-01T22:52:00.437834Z",
     "start_time": "2024-06-01T22:52:00.433460Z"
    }
   },
   "cell_type": "code",
   "source": [
    "X.loc[:, 'fuel-type'] = le.fit_transform(X['fuel-type'])\n",
    "X['fuel-type'].unique()"
   ],
   "id": "8118ebb11938cda4",
   "outputs": [
    {
     "data": {
      "text/plain": [
       "array([1, 0], dtype=object)"
      ]
     },
     "execution_count": 27,
     "metadata": {},
     "output_type": "execute_result"
    }
   ],
   "execution_count": 27
  },
  {
   "metadata": {
    "ExecuteTime": {
     "end_time": "2024-06-01T22:52:00.442451Z",
     "start_time": "2024-06-01T22:52:00.438842Z"
    }
   },
   "cell_type": "code",
   "source": [
    "X.loc[:, 'aspiration'] = le.fit_transform(X['aspiration'])\n",
    "X['aspiration'].unique()"
   ],
   "id": "907302300e4dcef",
   "outputs": [
    {
     "data": {
      "text/plain": [
       "array([0, 1], dtype=object)"
      ]
     },
     "execution_count": 28,
     "metadata": {},
     "output_type": "execute_result"
    }
   ],
   "execution_count": 28
  },
  {
   "metadata": {
    "ExecuteTime": {
     "end_time": "2024-06-01T22:52:00.448644Z",
     "start_time": "2024-06-01T22:52:00.444458Z"
    }
   },
   "cell_type": "code",
   "source": [
    "X.loc[:, 'num-of-doors'] = le.fit_transform(X['num-of-doors'])\n",
    "X['num-of-doors'].unique()"
   ],
   "id": "5c9214be50d0bb3d",
   "outputs": [
    {
     "data": {
      "text/plain": [
       "array([0., 1.])"
      ]
     },
     "execution_count": 29,
     "metadata": {},
     "output_type": "execute_result"
    }
   ],
   "execution_count": 29
  },
  {
   "metadata": {
    "ExecuteTime": {
     "end_time": "2024-06-01T22:52:00.453835Z",
     "start_time": "2024-06-01T22:52:00.448644Z"
    }
   },
   "cell_type": "code",
   "source": [
    "X.loc[:, 'body-style'] = le.fit_transform(X['body-style'])\n",
    "X['body-style'].unique()"
   ],
   "id": "1c2a32bc2a8a334b",
   "outputs": [
    {
     "data": {
      "text/plain": [
       "array([0, 2, 3, 4, 1], dtype=object)"
      ]
     },
     "execution_count": 30,
     "metadata": {},
     "output_type": "execute_result"
    }
   ],
   "execution_count": 30
  },
  {
   "metadata": {
    "ExecuteTime": {
     "end_time": "2024-06-01T22:52:00.458566Z",
     "start_time": "2024-06-01T22:52:00.453835Z"
    }
   },
   "cell_type": "code",
   "source": [
    "X.loc[:, 'drive-wheels'] = le.fit_transform(X['drive-wheels'])\n",
    "X['drive-wheels'].unique()"
   ],
   "id": "8d94a7e5aba744c7",
   "outputs": [
    {
     "data": {
      "text/plain": [
       "array([2, 1, 0], dtype=object)"
      ]
     },
     "execution_count": 31,
     "metadata": {},
     "output_type": "execute_result"
    }
   ],
   "execution_count": 31
  },
  {
   "metadata": {
    "ExecuteTime": {
     "end_time": "2024-06-01T22:52:00.463009Z",
     "start_time": "2024-06-01T22:52:00.458566Z"
    }
   },
   "cell_type": "code",
   "source": [
    "X.loc[:, 'engine-type'] = le.fit_transform(X['engine-type'])\n",
    "X['engine-type'].unique()"
   ],
   "id": "61b895db395b1546",
   "outputs": [
    {
     "data": {
      "text/plain": [
       "array([0, 5, 3, 2, 6, 4, 1], dtype=object)"
      ]
     },
     "execution_count": 32,
     "metadata": {},
     "output_type": "execute_result"
    }
   ],
   "execution_count": 32
  },
  {
   "metadata": {
    "ExecuteTime": {
     "end_time": "2024-06-01T22:52:00.467401Z",
     "start_time": "2024-06-01T22:52:00.463009Z"
    }
   },
   "cell_type": "code",
   "source": [
    "X.loc[:, 'fuel-system'] = le.fit_transform(X['fuel-system'])\n",
    "X['fuel-system'].unique()"
   ],
   "id": "3774dad757d61959",
   "outputs": [
    {
     "data": {
      "text/plain": [
       "array([5, 1, 4, 0, 7, 2, 3, 6], dtype=object)"
      ]
     },
     "execution_count": 33,
     "metadata": {},
     "output_type": "execute_result"
    }
   ],
   "execution_count": 33
  },
  {
   "metadata": {
    "ExecuteTime": {
     "end_time": "2024-06-01T22:52:00.472440Z",
     "start_time": "2024-06-01T22:52:00.468407Z"
    }
   },
   "cell_type": "code",
   "source": [
    "X.loc[:, 'num-of-cylinders'] = le.fit_transform(X['num-of-cylinders'])\n",
    "X['num-of-cylinders'].unique()"
   ],
   "id": "dbaf531e13d21a",
   "outputs": [
    {
     "data": {
      "text/plain": [
       "array([2, 4, 3, 1, 6, 0, 5], dtype=int64)"
      ]
     },
     "execution_count": 34,
     "metadata": {},
     "output_type": "execute_result"
    }
   ],
   "execution_count": 34
  },
  {
   "metadata": {
    "ExecuteTime": {
     "end_time": "2024-06-01T22:52:45.991838Z",
     "start_time": "2024-06-01T22:52:45.985392Z"
    }
   },
   "cell_type": "code",
   "source": [
    "df = pd.concat([X, y], axis=1)\n",
    "df.to_csv('Automobile_cleaned.csv', index=False)\n"
   ],
   "id": "1755c0ea02d9a05e",
   "outputs": [],
   "execution_count": 36
  },
  {
   "metadata": {
    "ExecuteTime": {
     "end_time": "2024-06-01T22:52:00.488216Z",
     "start_time": "2024-06-01T22:52:00.486502Z"
    }
   },
   "cell_type": "code",
   "source": "",
   "id": "7d8e44d29aec926a",
   "outputs": [],
   "execution_count": 35
  }
 ],
 "metadata": {
  "kernelspec": {
   "display_name": "Python 3",
   "language": "python",
   "name": "python3"
  },
  "language_info": {
   "codemirror_mode": {
    "name": "ipython",
    "version": 2
   },
   "file_extension": ".py",
   "mimetype": "text/x-python",
   "name": "python",
   "nbconvert_exporter": "python",
   "pygments_lexer": "ipython2",
   "version": "2.7.6"
  }
 },
 "nbformat": 4,
 "nbformat_minor": 5
}
